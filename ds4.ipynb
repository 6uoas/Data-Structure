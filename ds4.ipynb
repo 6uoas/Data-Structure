{
  "nbformat": 4,
  "nbformat_minor": 0,
  "metadata": {
    "colab": {
      "provenance": [],
      "authorship_tag": "ABX9TyM/7xZBtlQgO1r0FDjdwmJY",
      "include_colab_link": true
    },
    "kernelspec": {
      "name": "python3",
      "display_name": "Python 3"
    },
    "language_info": {
      "name": "python"
    }
  },
  "cells": [
    {
      "cell_type": "markdown",
      "metadata": {
        "id": "view-in-github",
        "colab_type": "text"
      },
      "source": [
        "<a href=\"https://colab.research.google.com/github/uoahy-6uoas/Data-Structure/blob/main/ds4.ipynb\" target=\"_parent\"><img src=\"https://colab.research.google.com/assets/colab-badge.svg\" alt=\"Open In Colab\"/></a>"
      ]
    },
    {
      "cell_type": "markdown",
      "source": [
        "<h1>파이썬 기초</h1>\n"
      ],
      "metadata": {
        "id": "WJI5Bb0DSlNx"
      }
    },
    {
      "cell_type": "markdown",
      "source": [
        "**1. 파이썬 언어의 특징**<br>\n",
        "> 인터프리티\n",
        "\n",
        "> 융통성이 넘치는\n",
        "\n",
        "> 리스트를 다루는 기능이 뛰어난\n",
        "\n",
        "> 들여쓰기로 주종 관계를 표현"
      ],
      "metadata": {
        "id": "jCZpHMteSuM2"
      }
    },
    {
      "cell_type": "markdown",
      "source": [
        "**2. 파이썬 사용 기초**\n",
        "\n",
        "* 불변타입(immutable)과 가변타입(mutable) -\n",
        "값 수정시 저장되는 위치가 달라는지에 따라 나눔<br>\n",
        "(문자열, 정수, 튜플 ... 은 불변타입, 리스트는 가변타입)\n",
        "\n",
        "* 복사호출, 참조호출, 할당호출 <br>\n",
        "<t> 1. 복사호출(Call-by-Value) : func(x)호출시 x'값'을 넘김<br>\n",
        "<t> 2. 참조호출(Call-by-Reference) : func(x)호출시 x'주소|포인터|식별자'을 넘김<br>\n",
        "<t> 3. 할당호출(Assignment) : func(x)호출시 x가 불변타입이면 복사호출, 가변이면 참조호출<br>"
      ],
      "metadata": {
        "id": "xPbGAMynhxKs"
      }
    },
    {
      "cell_type": "code",
      "source": [
        "# * 클래스\n",
        "class Sample: #sample이라는 이름의 클래스\n",
        "  var = 0 # 전역변수\n",
        "  def __init__(self,n): # 생성자\n",
        "    self.counter = 0  # self.counter는 각 객체의 지역변수\n",
        "    self.__table = [[] for i in range(n)] # --로 시작하는 변수는 클래스 내부에서만 사용가능\n",
        "  def numEven(self, i): # insert 라는 메서드\n",
        "    pass  #blahblah\n",
        "  def __perco(self,j): # __로 시작하는 메서드도 클래스 내부에서만 사용가능\n",
        "    pass\n",
        "\n",
        "smp = Sample(5)\n",
        "smp.numEven(5) # 클래스&메서드 사용방법\n",
        "#class & method 는 다시 공부하자.."
      ],
      "metadata": {
        "id": "hvVobxFFnj1R"
      },
      "execution_count": 31,
      "outputs": []
    },
    {
      "cell_type": "code",
      "source": [
        "# * 순회가능(Iterable) 클래스\n",
        "pass"
      ],
      "metadata": {
        "id": "oegeINidukeh"
      },
      "execution_count": 32,
      "outputs": []
    },
    {
      "cell_type": "markdown",
      "source": [
        "ch4 fin."
      ],
      "metadata": {
        "id": "YzAxZlh9x1Ji"
      }
    }
  ]
}