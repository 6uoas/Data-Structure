{
  "nbformat": 4,
  "nbformat_minor": 0,
  "metadata": {
    "colab": {
      "provenance": [],
      "authorship_tag": "ABX9TyOhMYwkPIjYmm9Av34te0Yq",
      "include_colab_link": true
    },
    "kernelspec": {
      "name": "python3",
      "display_name": "Python 3"
    },
    "language_info": {
      "name": "python"
    }
  },
  "cells": [
    {
      "cell_type": "markdown",
      "metadata": {
        "id": "view-in-github",
        "colab_type": "text"
      },
      "source": [
        "<a href=\"https://colab.research.google.com/github/uoahy-6uoas/Data-Structure/blob/main/ds5.ipynb\" target=\"_parent\"><img src=\"https://colab.research.google.com/assets/colab-badge.svg\" alt=\"Open In Colab\"/></a>"
      ]
    },
    {
      "cell_type": "markdown",
      "source": [
        "<h1>리스트</h1>\n"
      ],
      "metadata": {
        "id": "WJI5Bb0DSlNx"
      }
    },
    {
      "cell_type": "markdown",
      "source": [
        "**ADT 리스트** : 리스트는 대략 이러이러한 작업으로 구성된 자료구조다.<br>\n",
        "> i번 자리에 원소 x를 삽입한다. <br>\n",
        "> i번 원소를 삭제한다. <br>\n",
        "> 원소 x를 삭제한다. <br>\n",
        "> i번 원소를 알려준다. <br>\n",
        "> 원소 x가 몇 번 원소인지 알려준다. <br>\n",
        "> 리스트의 사이즈(원소의 총 수)를 알려준다. <br>"
      ],
      "metadata": {
        "id": "jCZpHMteSuM2"
      }
    },
    {
      "cell_type": "markdown",
      "source": [
        "```\n",
        "insert(i,x) #x를 리스트의 i번 원소로 삽입한다.\n",
        "append(x) #원소 x를 리스트의 맨 뒤에 추가\n",
        "pop(i) #리스트의 i번 원소를 삭제하면서 알려준다.\n",
        "remove(x) #리스트에서 (처음으로 나타나는) x를 삭제한다.\n",
        "index(x) #원소 x가 리스트의 몇 번 원소인지 알려준다.\n",
        "clear() #리스트를 비운다.\n",
        "count(x) #리스트에서 원소 x가 몇 번 나타나는지 알려준다.\n",
        "extend(a) #리스트에 a(리스트 | 튜플 등)를 풀어서 추가한다.\n",
        "copy() #리스트를 복사한다.\n",
        "reverse() #리스트의 순서를 뒤집는다.\n",
        "sort() #리스트의 원소들을 정렬한다.\n",
        "```"
      ],
      "metadata": {
        "id": "GBVP7NISASKL"
      }
    },
    {
      "cell_type": "markdown",
      "source": [
        "**연결리스트 : 배열의 공간 낭비를 줄인 리스트**\n",
        "<br>\n",
        "* 원소 삽입\n",
        "```\n",
        "#연결리스트에 원소 삽입하기\n",
        "if i == 0: # 맨 앞에 삽입할 경우, i는 삽입할 위치\n",
        "    newNode.itme = x #x는 삽입할 원소\n",
        "    newNode.next = __head\n",
        "    __head = newNode\n",
        "    __numItems += 1\n",
        "else:\n",
        "    newNode.item = x\n",
        "    newNode.next = prev.next #prev는 삽입될 위치 앞에 있음\n",
        "    prev.next = newNode #삽입될 위치앞의 prev의 다음이 newNode\n",
        "    __numItems += 1 #원소의 총 개수 1 늘려줌\n",
        "```\n",
        "```\n",
        "#단, 아무 것도 없는 dummy_head를 맨 앞에 두면 i==0일때 따로 코드가 없어도 됨\n",
        "newNode.itme = x\n",
        "newNode.next = prev.next\n",
        "prev.next = newNode\n",
        "__numItems += 1\n",
        "```"
      ],
      "metadata": {
        "id": "ZQF4Q5RwG2Ja"
      }
    },
    {
      "cell_type": "markdown",
      "source": [
        "* 원소 삭제\n",
        "```\n",
        "#직전 노드가 다음 노드를 건너 뛰어가게 만든다.\n",
        "if i == 0:\n",
        "    __head.next = __head.next.next\n",
        "    __numItems -= 1\n",
        "else:\n",
        "    prev.next = prev.next.next #맨 뒤의 원소에도 prev.next.next = none이기 때문에 사용 가능하다\n",
        "    __numItems -=1\n",
        "```\n",
        "```\n",
        "#dummy head\n",
        "prev.next = prev.next.next\n",
        "__numItems -= 1\n",
        "```"
      ],
      "metadata": {
        "id": "E3SOk2daJTfj"
      }
    },
    {
      "cell_type": "markdown",
      "source": [
        "* 기타 작업\n",
        "```\n",
        "# i번 원소 알려주기\n",
        "def __getNode(i):\n",
        "    curr = __head\n",
        "    for index in range(i+1):\n",
        "        curr = curr.next\n",
        "    return curr\n",
        "```\n",
        "```\n",
        "def get(i):\n",
        "    if i>=0 and i<=__numItems-1:\n",
        "        return __getNode(i).item\n",
        "    else:\n",
        "    print(\"error in get(\", i, \")\")\n",
        "```\n",
        "```\n",
        "# x가 몇 번 노드인지 알려주기\n",
        "def index(x):\n",
        "    curr = __head\n",
        "    for index in range(__numItems):\n",
        "        curr = curr.next\n",
        "        if curr.item==x:\n",
        "            return index\n",
        "    return -12345 #없을 때 내보낼 거\n",
        "```\n",
        "```\n",
        "#기타작업\n",
        "def isEmpty() -->bool :\n",
        "    return __numItems == 0\n",
        "def size() --> int:\n",
        "    return __numItems\n",
        "def clear():\n",
        "    newNode.next = none #dummy head\n",
        "    __head = newNode\n",
        "    __numItems = 0\n",
        "```"
      ],
      "metadata": {
        "id": "VBo0W3F2LKbf"
      }
    },
    {
      "cell_type": "markdown",
      "source": [
        "* 노드의 사용"
      ],
      "metadata": {
        "id": "OCS0OhF1MsQq"
      }
    },
    {
      "cell_type": "code",
      "source": [
        "class ListNode:\n",
        "  def __init__(self,newItem, nextNode:'ListNode'): #NextNode는 노드라는 것을 명시..\n",
        "    self.item = newItem\n",
        "    self.next = nextNode\n",
        "x = 'item'\n",
        "a = ListNode(x,None) #item값은 x, next값은 None인 노드객체 a\n",
        "\n",
        "#사용 예시\n",
        "y,z = 'item_y', 'item_z'\n",
        "t2 = ListNode(y,None)\n",
        "t1 = ListNode(x,None)\n",
        "t1.next = t2\n",
        "t3 = ListNode(z,t1)\n",
        "\n",
        "print(t3.next.next.item)"
      ],
      "metadata": {
        "colab": {
          "base_uri": "https://localhost:8080/"
        },
        "id": "5r9hudIbHD4n",
        "outputId": "ea1e8f87-ad9a-473e-99bb-b140c511445c"
      },
      "execution_count": 1,
      "outputs": [
        {
          "output_type": "stream",
          "name": "stdout",
          "text": [
            "item_y\n"
          ]
        }
      ]
    },
    {
      "cell_type": "code",
      "source": [
        "#연결 리스트의 구현\n",
        "\n",
        "# from DS.list.listNode improt ListNode --> ListNode class 가 없을때 import\n",
        "\n",
        "class LinkedListBasic:\n",
        "  def __init__(self):\n",
        "    self.__head = ListNode('dummy',None) #dummy head\n",
        "    self.__numItems = 0\n",
        "\n",
        "  def insert(self, i:int, newItem):\n",
        "    if i >= 0 and i <= self.__numItems:\n",
        "      prev = self.__getNode(i-1)\n",
        "      newNode = ListNode(newItem, prev.next)\n",
        "      prev.next = newNode\n",
        "      self.__numItems += 1\n",
        "    else:\n",
        "      print(\"index\",i,\":out of bound in insert()\") #범위가 이상할 때\n",
        "\n",
        "  def append(self,newItem):\n",
        "    prev = self.__getNode(self.__numItems - 1)\n",
        "    newNode = ListNode(newItem, prev.next)\n",
        "    prev.next = newNode\n",
        "    self.__numItems += 1\n",
        "\n",
        "  def pop(self, i:int):\n",
        "    if(i>=0 and i <= self.__numItems-1):\n",
        "      prev = self.__getNode(i-1)\n",
        "      curr = prev.next\n",
        "      prev.next = curr.next\n",
        "      retItem = curr.item\n",
        "      self.__numItems -= 1\n",
        "      return retItem\n",
        "    else:\n",
        "      return None\n",
        "\n",
        "  def remove(self, x):\n",
        "    (prev, curr) = self.__findNode(x)\n",
        "    if curr != None:\n",
        "      prev.next = curr.next\n",
        "      self.__numItems -= 1\n",
        "      return x\n",
        "    else:\n",
        "      return None\n",
        "\n",
        "  def get(self, i:int):\n",
        "    if self.isEmpty():\n",
        "      return None\n",
        "    if i >= 0 and i <= self.__numItems - 1:\n",
        "      return self.__getNode(i).item\n",
        "    else:\n",
        "      return None\n",
        "\n",
        "  def index(self,x) -> int:\n",
        "    curr = self.__head.next\n",
        "    for index in range(self.__numItems):\n",
        "      if curr.item==x:\n",
        "        return index\n",
        "      else:\n",
        "        curr = curr.next\n",
        "\n",
        "  def isEmpty(self) -> bool:\n",
        "    return self.__numItems==0\n",
        "\n",
        "  def size(self) -> int:\n",
        "    return self.__numItems\n",
        "\n",
        "  def clear(self):\n",
        "    self.__head = ListNode('dummy',None)\n",
        "    self.__numItems = 0\n",
        "\n",
        "  def count(self,x) -> int: #x가 몇 번 나왔는지\n",
        "    cnt = 0\n",
        "    curr = self.__head.next\n",
        "    while curr != None:\n",
        "      if curr.item == x:\n",
        "        cnt+=1\n",
        "      curr = curr.next\n",
        "    return cnt\n",
        "\n",
        "  def extend(self,a):\n",
        "    for index in range(a.size()):\n",
        "      self.append(a.get(index))\n",
        "\n",
        "  def copy(self):\n",
        "    a = LinkedListBasic()\n",
        "    for index in range(self.__numItems):\n",
        "      a.append(self.get(index))\n",
        "    return a\n",
        "\n",
        "  def reverse(self):\n",
        "    a = LinkedListBasic()\n",
        "    for index in range(self.__numItems):\n",
        "      a.insert(0,self.get(index))\n",
        "    self.clear()\n",
        "    for index in range(a.size()):\n",
        "      self.append(a.get(index))\n",
        "\n",
        "  def sort(self) -> None:\n",
        "    a = []\n",
        "    for index in range(self.__numItems):\n",
        "      a.append(self.get(index))\n",
        "    a.sort() #기본 리스트의 힘을 빌려 일단...\n",
        "    self.clear()\n",
        "    for index in range(len(a)):\n",
        "      self.append(a[index])\n",
        "\n",
        "  def __findNode(self, x):\n",
        "    prev = self.__head\n",
        "    curr = prev.next\n",
        "    while curr != None:\n",
        "      if curr.item == x:\n",
        "        return (prev,curr)\n",
        "      else:\n",
        "        prev = curr\n",
        "        curr = curr.next\n",
        "    return (None, None)\n",
        "\n",
        "  def __getNode(self, i:int) -> ListNode:\n",
        "    curr = self.__head #dummy head에서 시작, dummy head다음이 0번 노드\n",
        "    for index in range(i+1):\n",
        "      curr = curr.next\n",
        "    return curr\n",
        "\n",
        "  def printList(self):\n",
        "    curr = self.__head.next\n",
        "    while curr != None:\n",
        "      print(curr.item, end=' ')\n",
        "      curr = curr.next\n",
        "    print()"
      ],
      "metadata": {
        "id": "mwebRlAdPf4h"
      },
      "execution_count": 2,
      "outputs": []
    },
    {
      "cell_type": "code",
      "source": [
        "#LinkedLIstBasic 사용 예시\n",
        "# from LinkedListBasic import * 모듈을 .py로 저장한 뒤\n",
        "\n",
        "lis_t = LinkedListBasic()\n",
        "lis_t.append(30) #[30]\n",
        "lis_t.insert(0,20) #[20,30]"
      ],
      "metadata": {
        "id": "HUK53SQTXAmF"
      },
      "execution_count": 3,
      "outputs": []
    },
    {
      "cell_type": "code",
      "source": [
        "b = LinkedListBasic()\n",
        "b.append(4); b.append(3); b.append(2); b.append(1) #[4,3,2,1]\n",
        "\n",
        "b.reverse() #[1,2,3,4]\n",
        "b.pop(0) #[2,3,4]\n",
        "b.printList()\n",
        "\n",
        "lis_t.extend(b) #[20,30,2,3,4]\n",
        "lis_t.reverse() #[4,3,2,30,20]\n",
        "print(\"count(3): \",lis_t.count(3))\n",
        "print(\"get(2): \",lis_t.get(2))\n",
        "lis_t.printList()"
      ],
      "metadata": {
        "colab": {
          "base_uri": "https://localhost:8080/"
        },
        "id": "36w-YHyvdKxp",
        "outputId": "d812518a-0957-44f4-90e0-60296c43e1f0"
      },
      "execution_count": 5,
      "outputs": [
        {
          "output_type": "stream",
          "name": "stdout",
          "text": [
            "2 3 4 \n",
            "count(3):  1\n",
            "get(2):  2\n",
            "4 3 2 30 20 \n"
          ]
        }
      ]
    }
  ]
}