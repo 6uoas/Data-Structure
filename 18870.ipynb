{
  "nbformat": 4,
  "nbformat_minor": 0,
  "metadata": {
    "colab": {
      "provenance": [],
      "authorship_tag": "ABX9TyNkKOcRJksdAvXBbvYRzNjv",
      "include_colab_link": true
    },
    "kernelspec": {
      "name": "python3",
      "display_name": "Python 3"
    },
    "language_info": {
      "name": "python"
    }
  },
  "cells": [
    {
      "cell_type": "markdown",
      "metadata": {
        "id": "view-in-github",
        "colab_type": "text"
      },
      "source": [
        "<a href=\"https://colab.research.google.com/github/uoahy-6uoas/Data-Structure/blob/main/18870.ipynb\" target=\"_parent\"><img src=\"https://colab.research.google.com/assets/colab-badge.svg\" alt=\"Open In Colab\"/></a>"
      ]
    },
    {
      "cell_type": "code",
      "source": [
        "n = int(input())\n",
        "n_list = list(map(int, input().split()))\n",
        "m = int(input())\n",
        "m_list = list(map(int, input().split()))"
      ],
      "metadata": {
        "colab": {
          "base_uri": "https://localhost:8080/"
        },
        "id": "i7Ceaqdq2qis",
        "outputId": "3659d2f1-0a46-49b1-dfc8-ef5cba6e3eeb"
      },
      "execution_count": 1,
      "outputs": [
        {
          "name": "stdout",
          "output_type": "stream",
          "text": [
            "5\n",
            "6 3 2 10 -10\n",
            "8\n",
            "10 9 -5 2 3 4 5 -10\n"
          ]
        }
      ]
    },
    {
      "cell_type": "code",
      "source": [
        "n_dict = {}\n",
        "for i in n_list: #딕셔너리가 진짜 빠름을 체감함..\n",
        "  n_dict[i] = 1\n",
        "for i in m_list:\n",
        "  if i in n_dict:\n",
        "    print(1,end=' ')\n",
        "  else:\n",
        "    print(0,end=' ')"
      ],
      "metadata": {
        "colab": {
          "base_uri": "https://localhost:8080/"
        },
        "id": "aul3opTC2y1q",
        "outputId": "9c4c71ad-d396-4a90-d338-3205f1ef6ae1"
      },
      "execution_count": 3,
      "outputs": [
        {
          "output_type": "stream",
          "name": "stdout",
          "text": [
            "1 0 0 1 1 0 0 1 "
          ]
        }
      ]
    },
    {
      "cell_type": "code",
      "source": [],
      "metadata": {
        "id": "TGBjPXuz2_e4"
      },
      "execution_count": null,
      "outputs": []
    }
  ]
}