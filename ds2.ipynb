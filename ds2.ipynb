{
  "nbformat": 4,
  "nbformat_minor": 0,
  "metadata": {
    "colab": {
      "provenance": [],
      "authorship_tag": "ABX9TyNJvE7TFoYWP0MZGD9bS3Ml",
      "include_colab_link": true
    },
    "kernelspec": {
      "name": "python3",
      "display_name": "Python 3"
    },
    "language_info": {
      "name": "python"
    }
  },
  "cells": [
    {
      "cell_type": "markdown",
      "metadata": {
        "id": "view-in-github",
        "colab_type": "text"
      },
      "source": [
        "<a href=\"https://colab.research.google.com/github/uoahy-6uoas/Data-Structure/blob/ch2-edit/ds2.ipynb\" target=\"_parent\"><img src=\"https://colab.research.google.com/assets/colab-badge.svg\" alt=\"Open In Colab\"/></a>"
      ]
    },
    {
      "cell_type": "markdown",
      "source": [
        "**<h1>재귀와 귀납적 사고</h1>**"
      ],
      "metadata": {
        "id": "7F9-ol5He64k"
      }
    },
    {
      "cell_type": "markdown",
      "source": [
        "**1. 자료구조와 재귀**\n",
        ">**재귀**는 내 안의 나를 찾는 것\n",
        "ex) 팩토리얼, 점화식"
      ],
      "metadata": {
        "id": "hX7OLUeskuKE"
      }
    },
    {
      "cell_type": "markdown",
      "source": [
        "**2. 재귀 구조의 예**"
      ],
      "metadata": {
        "id": "Fh3bcVt0kzg2"
      }
    },
    {
      "cell_type": "markdown",
      "source": [
        "* 등차수열 : $a_n = a_{n-1} + 3, a_1 = 1$"
      ],
      "metadata": {
        "id": "QOaGk617fbo6"
      }
    },
    {
      "cell_type": "code",
      "source": [
        "#등차수열\n",
        "def seq(n):\n",
        "  if n==1:\n",
        "    return 1\n",
        "  else:\n",
        "    return seq(n-1) + 3"
      ],
      "metadata": {
        "id": "g1huMRRLfaxY"
      },
      "execution_count": 1,
      "outputs": []
    },
    {
      "cell_type": "markdown",
      "source": [
        "* 피보나치 수열(재귀버전) : $f_n = f_{n-1} + f_{n-2}, f_1=f_2=1$"
      ],
      "metadata": {
        "id": "mDHUtufff9h_"
      }
    },
    {
      "cell_type": "code",
      "source": [
        "#피보나치 수열 재귀ver.\n",
        "def fib(n):\n",
        "  if n==1 or n==2:\n",
        "    return 1\n",
        "  else:\n",
        "    return fib(n-1) + fib(n-2)"
      ],
      "metadata": {
        "id": "Q2WUGbekfcvh"
      },
      "execution_count": 2,
      "outputs": []
    },
    {
      "cell_type": "code",
      "source": [
        "#피보나치 수열 비재귀ver.\n",
        "f = []\n",
        "def fib_fast(n):\n",
        "  f[1] = 1\n",
        "  f[2] = 1\n",
        "  for i in range(3,n+1):\n",
        "    f[i] = f[i-1] + f[i-2]\n",
        "    return f[n]"
      ],
      "metadata": {
        "id": "EdF7zFUWgas8"
      },
      "execution_count": 3,
      "outputs": []
    },
    {
      "cell_type": "markdown",
      "source": [
        "* 하노이탑<br>\n",
        "> *term*\n",
        ">* 원반은 한 번에 하나씩 옮길 수 있다.\n",
        ">* 큰 원반이 작은 원반 아래에 놓여야 한다.\n",
        ">* 최종적으로 a 기둥의 원반 모양 그대로 b 기둥으로 옮겨야함\n",
        "\n",
        "```\n",
        "#pseudocode\n",
        "move(n,a,b,c) -> 원반 옮기기:\n",
        "  if n > 0:\n",
        "    move(n-1,a,c,b) #a에 있는 n-1개의 원반을 c로 옮긴다.\n",
        "    a에 있는 남아있는 가장 큰 원반을 b로 옮긴다.\n",
        "    move(n-1,c,b,a) #c에 있는 n-1개의 원반을 b로 옮긴다.\n",
        "```\n",
        "총 move함수가 $2^n-1$번 호출된다.."
      ],
      "metadata": {
        "id": "O8Qglyz5hBeE"
      }
    },
    {
      "cell_type": "markdown",
      "source": [
        "* 선택 정렬\n",
        "> 1. 리스트를 쭉 훑어 가장 큰 값을 제일 오른쪽 값과 바꾼다.<br>\n",
        "> 2. 반복하면 ASC 정렬완료"
      ],
      "metadata": {
        "id": "XrCZJ9uSlJY9"
      }
    },
    {
      "cell_type": "code",
      "source": [
        "#선택 정렬 len(A)==n\n",
        "def selectionSort(A,n): #type(A) == list\n",
        "  for i in range(n-1,0,-1):\n",
        "    k = A.index(max(A[:i])) #최댓값의 인덱스를 k에 넣자\n",
        "    A[k], A[-1] = A[-1], A[k] #swap"
      ],
      "metadata": {
        "id": "nY25O4qPly1J"
      },
      "execution_count": 4,
      "outputs": []
    },
    {
      "cell_type": "code",
      "source": [
        "#선택 정렬(재귀 버전) len(A)==n\n",
        "def selectionSort_recursion_ver(A,n): # 가장 큰 값 오른쪽으로 보냄\n",
        "  if n > 1:\n",
        "    k = A.index(max(A))\n",
        "    A[k], A[n-1] = A[n-1], A[k]\n",
        "    selectionSort_recursion_ver(A,n-1) #다음으로 큰 값 오른쪽으로 보냄"
      ],
      "metadata": {
        "id": "kO1ECxhjl9Mr"
      },
      "execution_count": 5,
      "outputs": []
    },
    {
      "cell_type": "markdown",
      "source": [
        "* 중위, 전위, 후위 표현법\n",
        "> 중위표현법 : $(A+B)\\times(C-2)$  {*일반적인 수식*}<br>\n",
        "> 전위표현법 : $\\times+AB-C2$  {*피연산자 앞의 연산자 순서대로*} <br>\n",
        "> 후위표현법 : $AB+C2-\\times$ {*피연산자 뒤에 연산자*}"
      ],
      "metadata": {
        "id": "61AJL4rzoewy"
      }
    },
    {
      "cell_type": "markdown",
      "source": [
        "```\n",
        "<infix> = <variable> | <infix> <operater> <infix>\n",
        "<operater> =  + | - | * | /\n",
        "\n",
        "<prefix> = <variable> | <operater><prefix><prefix>\n",
        "<operater> =  + | - | * | /\n",
        "\n",
        "<postfix> = <variable> | <postfix><postfix><operater>\n",
        "<operater> =  + | - | * | /\n",
        "```\n",
        "\n"
      ],
      "metadata": {
        "id": "QD5oZN1rFZoo"
      }
    },
    {
      "cell_type": "markdown",
      "source": [
        "* 깊이 우선 탐색 (Depth-Fist Search) <br>\n",
        "![depth-first-search-algorithm.png](data:image/png;base64,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) <br>\n",
        "https://www.javatpoint.com/depth-first-search-algorithm"
      ],
      "metadata": {
        "id": "Zhe5ZNMSGUY3"
      }
    },
    {
      "cell_type": "code",
      "source": [
        "#깊이 우선 탐색\n",
        "def DFS(A):\n",
        "  A.visited = True\n",
        "  for y in A: #x에 연결된 모든 노드(y) 각각에 대하여\n",
        "    if y.visited == False: DFS(y)"
      ],
      "metadata": {
        "id": "iR03qGHBn2Bi"
      },
      "execution_count": 6,
      "outputs": []
    },
    {
      "cell_type": "markdown",
      "source": [
        "**3. 재귀와 수학적 귀납법**\n",
        "> 수학적 귀납법은 자신보다 작은 문제의 답이 옳다고 가정하고 관계를 통해 자신의 결론이 참임을 보이는 방법\n",
        "\n",
        "재귀 알고리즘은 명시적|암묵적으로 다음 세가지 구성요소를 갖추어야함\n",
        "1. 경계조건 : 재귀 호풀이 반복되다가 궁극적으로 끝나는 조건\n",
        "2. 재귀호출\n",
        "3. 관계 : 닳음꼴 작은 문제와 본 문제의 관계를 나타나는 부분\n"
      ],
      "metadata": {
        "id": "y4o8qGeEH1ZB"
      }
    },
    {
      "cell_type": "markdown",
      "source": [
        "* 연습문제\n",
        "1. 다음 수열의 n번째 항을 구하는 재귀 알고리즘을 작성하시오<br>\n",
        "$a_n = 5a_{n-1}+3 , a_1=0$"
      ],
      "metadata": {
        "id": "ivtIKXbtKVSc"
      }
    },
    {
      "cell_type": "code",
      "source": [
        "def exam1(n):\n",
        "  if n == 1:\n",
        "    return 0\n",
        "  else:\n",
        "    return 5*exam1(n-1)"
      ],
      "metadata": {
        "id": "5S6RipwCG8lq"
      },
      "execution_count": 7,
      "outputs": []
    },
    {
      "cell_type": "markdown",
      "source": [
        "2. 다음 알고리즘에서 양의 정수 n에 대해 함수 seq()는 총 몇 회 호출되는가?"
      ],
      "metadata": {
        "id": "18b1s6PHK1LY"
      }
    },
    {
      "cell_type": "code",
      "source": [
        "def seq(n):\n",
        "  if n==1:\n",
        "    return 1\n",
        "  else:\n",
        "    return seq(n-1)+3"
      ],
      "metadata": {
        "id": "NRJOXEXZKyNu"
      },
      "execution_count": 8,
      "outputs": []
    },
    {
      "cell_type": "markdown",
      "source": [
        "```\n",
        "T(1) = 1 임이 자명\n",
        "T(n) = n 이라고 가정\n",
        "T(n+1) = 1+T(n) = 1+n 이므로\n",
        "T(n) = n, n회 호출된다.\n",
        "```\n",
        "\n",
        "\n"
      ],
      "metadata": {
        "id": "QeGzpvXwLFo2"
      }
    },
    {
      "cell_type": "markdown",
      "source": [
        "3. fib(5)를 수행하면 fib()는 총 몇 회 호출되는가?"
      ],
      "metadata": {
        "id": "y9hGP1sAL6s7"
      }
    },
    {
      "cell_type": "code",
      "source": [
        "def fib(n):\n",
        "  if n==1 or n==2:\n",
        "    return 1\n",
        "  else:\n",
        "    return fib(n-1)+fib(n-2)"
      ],
      "metadata": {
        "id": "m8TMFQZKLE1M"
      },
      "execution_count": 9,
      "outputs": []
    },
    {
      "cell_type": "markdown",
      "source": [
        "```\n",
        "T(1), T(2) = 1, 1\n",
        "T(3) = T(1)+T(2) = 2\n",
        "T(4) = T(3)+T(2) = 2+1 =3\n",
        "T(5) = T(4)+T(3) = 3+2 = 5\n",
        "#본인 호출은 제외함\n",
        "```"
      ],
      "metadata": {
        "id": "7TnpjbMhMZGC"
      }
    },
    {
      "cell_type": "markdown",
      "source": [
        "4. move(5,a,b,c)를 수행하면 move()는 몇회 호출되는가?\n",
        "```\n",
        "move(n,a,b,c):\n",
        "  if n > 0:\n",
        "    move(n-1,a,c,b)\n",
        "    a에 있는 남아있는 가장 큰 원반을 b로 옮긴다.\n",
        "    move(n-1,c,b,a)\n",
        "```"
      ],
      "metadata": {
        "id": "i0d4UWSrNng3"
      }
    },
    {
      "cell_type": "markdown",
      "source": [
        "$T(1)=2$<br>\n",
        "$T(n) = 2^n$ 라고 하자<br>\n",
        "$T(n+1) = T(n)\\times2 = 2\\times2^n = 2^{n+1}$<br>\n",
        "수학적 귀납법에 따라 증명\n"
      ],
      "metadata": {
        "id": "x2NqzJpzOCiF"
      }
    },
    {
      "cell_type": "markdown",
      "source": [
        "5. 4번 문제에서 원반을 옮기는 행위의 총 횟수를 세어보자\n",
        "\n",
        "$T(1)=1$<br>\n",
        "$T(n) = 2^n-1$ 라고 하자<br>\n",
        "$T(n+1) = 2\\times T(n)+1 = 2\\times(2^n-1)+1 = 2^{n+1}-1$<br>\n",
        "수학적 귀납법에 따라 증명"
      ],
      "metadata": {
        "id": "kMpN7wB1O8cC"
      }
    },
    {
      "cell_type": "markdown",
      "source": [
        "6. 4번 문제에서 경계조건(if문)이 빠지면 어떻게 되나?<br>\n",
        "n이 끝없이 감소하여 move함수가 계속 호출된다."
      ],
      "metadata": {
        "id": "dMn7CKVhPt8q"
      }
    },
    {
      "cell_type": "markdown",
      "source": [
        "7. 선택 정렬 알고리즘에서 양의 정수 n에 대해 selectionSort_recursion_ver(A,n)을 수행하면 함수는 총 몇 회 수행되는가?"
      ],
      "metadata": {
        "id": "kxFGsaHQQirl"
      }
    },
    {
      "cell_type": "code",
      "source": [
        "def selectionSort_recursion_ver(A,n):\n",
        "  if n > 1:\n",
        "    k = A.index(max(A))\n",
        "    A[k], A[n-1] = A[n-1], A[k]\n",
        "    selectionSort_recursion_ver(A,n-1)"
      ],
      "metadata": {
        "id": "JSpHyZWXN97d"
      },
      "execution_count": 10,
      "outputs": []
    },
    {
      "cell_type": "markdown",
      "source": [
        "```\n",
        "T(1) = 1\n",
        "T(n) = n 이라고 하자\n",
        "T(n+1) = T(n)+1 = n+1 따라서 증명\n",
        "```"
      ],
      "metadata": {
        "id": "4k7pqfVaQ5Hs"
      }
    },
    {
      "cell_type": "markdown",
      "source": [
        "8. 다음 재귀적 표현에서 <T>가 표현한 것은?\n",
        "```\n",
        "<T> = <number> | <T><number>\n",
        "<number> = 0|1|2|...|9\n",
        "```\n",
        "정수를 표현함\n",
        "\n",
        "ch2 fin."
      ],
      "metadata": {
        "id": "DMp0ya4bRVzS"
      }
    }
  ]
}