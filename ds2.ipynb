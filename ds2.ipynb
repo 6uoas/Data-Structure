{
  "nbformat": 4,
  "nbformat_minor": 0,
  "metadata": {
    "colab": {
      "provenance": [],
      "authorship_tag": "ABX9TyM4B1KrCZJXXh7jPcOXjjcO",
      "include_colab_link": true
    },
    "kernelspec": {
      "name": "python3",
      "display_name": "Python 3"
    },
    "language_info": {
      "name": "python"
    }
  },
  "cells": [
    {
      "cell_type": "markdown",
      "metadata": {
        "id": "view-in-github",
        "colab_type": "text"
      },
      "source": [
        "<a href=\"https://colab.research.google.com/github/uoahy-6uoas/Data-Structure/blob/main/ds2.ipynb\" target=\"_parent\"><img src=\"https://colab.research.google.com/assets/colab-badge.svg\" alt=\"Open In Colab\"/></a>"
      ]
    },
    {
      "cell_type": "markdown",
      "source": [
        "**재귀와 귀납적 사고**\n",
        ">**재귀**는 내 안의 나를 찾는 것\n",
        "\n",
        "ex) 팩토리얼, 점화식"
      ],
      "metadata": {
        "id": "7F9-ol5He64k"
      }
    },
    {
      "cell_type": "code",
      "source": [
        "#재귀구조의 예시"
      ],
      "metadata": {
        "id": "BOEvZcVCfMpC"
      },
      "execution_count": 1,
      "outputs": []
    },
    {
      "cell_type": "markdown",
      "source": [
        "등차수열 : $a_n = a_{n-1} + 3, a_1 = 1$"
      ],
      "metadata": {
        "id": "QOaGk617fbo6"
      }
    },
    {
      "cell_type": "code",
      "source": [
        "#등차수열\n",
        "def seq(n):\n",
        "  if n==1:\n",
        "    return 1\n",
        "  else:\n",
        "    return seq(n-1) + 3"
      ],
      "metadata": {
        "id": "g1huMRRLfaxY"
      },
      "execution_count": 5,
      "outputs": []
    },
    {
      "cell_type": "markdown",
      "source": [
        "피보나치 수열(재귀버전) : $f_n = f_{n-1} + f_{n-2}, f_1=f_2=1$"
      ],
      "metadata": {
        "id": "mDHUtufff9h_"
      }
    },
    {
      "cell_type": "code",
      "source": [
        "#피보나치 수열 재귀ver.\n",
        "def fib(n):\n",
        "  if n==1 or n==2:\n",
        "    return 1\n",
        "  else:\n",
        "    return fib(n-1) + fib(n-2)"
      ],
      "metadata": {
        "id": "Q2WUGbekfcvh"
      },
      "execution_count": 7,
      "outputs": []
    },
    {
      "cell_type": "code",
      "source": [
        "#피보나치 수열 비재귀ver.\n",
        "f = []\n",
        "def fib_fast(n):\n",
        "  f[1] = 1\n",
        "  f[2] = 1\n",
        "  for i in range(3,n+1):\n",
        "    f[i] = f[i-1] + f[i-2]\n",
        "    return f[n]"
      ],
      "metadata": {
        "id": "EdF7zFUWgas8"
      },
      "execution_count": 10,
      "outputs": []
    },
    {
      "cell_type": "markdown",
      "source": [
        "하노이탑<br>\n",
        "> *term*\n",
        "* 원반은 한 번에 하나씩 옮길 수 있다.\n",
        "* 큰 원반이 작은 원반 아래에 놓여야 한다.\n",
        "* 최종적으로 a 기둥의 원반 모양 그대로 b 기둥으로 옮겨야함\n",
        "\n",
        "```\n",
        "#pseudocode\n",
        "move(n,a,b,c) -> 원반 옮기기:\n",
        "  if n > 0:\n",
        "    move(n-1,a,c,b) #a에 있는 n-1개의 원반을 c로 옮긴다.\n",
        "    a에 있는 남아있는 가장 큰 원반을 b로 옮긴다.\n",
        "    move(n-1,c,b,a) #c에 있는 n-1개의 원반을 b로 옮긴다.\n",
        "```\n",
        "총 move함수가 $2^n-1$번 호출된다.."
      ],
      "metadata": {
        "id": "O8Qglyz5hBeE"
      }
    },
    {
      "cell_type": "code",
      "source": [],
      "metadata": {
        "id": "GL8fYZqmg4Jq"
      },
      "execution_count": null,
      "outputs": []
    }
  ]
}