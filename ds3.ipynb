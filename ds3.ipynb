{
  "nbformat": 4,
  "nbformat_minor": 0,
  "metadata": {
    "colab": {
      "provenance": [],
      "authorship_tag": "ABX9TyNA1sc5zt9qwCjeMqLxYj2R",
      "include_colab_link": true
    },
    "kernelspec": {
      "name": "python3",
      "display_name": "Python 3"
    },
    "language_info": {
      "name": "python"
    }
  },
  "cells": [
    {
      "cell_type": "markdown",
      "metadata": {
        "id": "view-in-github",
        "colab_type": "text"
      },
      "source": [
        "<a href=\"https://colab.research.google.com/github/uoahy-6uoas/Data-Structure/blob/main/ds3.ipynb\" target=\"_parent\"><img src=\"https://colab.research.google.com/assets/colab-badge.svg\" alt=\"Open In Colab\"/></a>"
      ]
    },
    {
      "cell_type": "markdown",
      "source": [
        "<h1>알고리즘의 성능</h1>\n"
      ],
      "metadata": {
        "id": "WJI5Bb0DSlNx"
      }
    },
    {
      "cell_type": "markdown",
      "source": [
        "**1. 알고리즘 수행 시간이란**<br>\n",
        "> 자원 = 시간, 네트워크대역, 저장공간<br>\n",
        "> 알고리즘 효율성 == 자원을 얼마나 효율적으로 사용하는 가 (주로, 시간)<br>\n",
        "> 알고리즘의 수행시간 == 입력의 크기에 대해 시간이 얼마나 걸리는지로 표현"
      ],
      "metadata": {
        "id": "jCZpHMteSuM2"
      }
    },
    {
      "cell_type": "code",
      "source": [
        "#알고리즘 예1\n",
        "def sample1(A,n):\n",
        "  k = n/2\n",
        "  return A[k]\n",
        "#입력에 상관없이 일정한 시간 소모"
      ],
      "metadata": {
        "id": "-j8FPo59SqVs"
      },
      "execution_count": 1,
      "outputs": []
    },
    {
      "cell_type": "code",
      "source": [
        "#알고리즘 예2\n",
        "def sample2(A,n):\n",
        "  sum = 0\n",
        "  for i in range(n):\n",
        "    sum += A[i]\n",
        "  return sum\n",
        "#n에 수행시간이 비례함"
      ],
      "metadata": {
        "id": "CshM7mC-ToHR"
      },
      "execution_count": 2,
      "outputs": []
    },
    {
      "cell_type": "code",
      "source": [
        "#알고리즘 예3\n",
        "def sample3(A,n):\n",
        "  sum = 0\n",
        "  for i in range(n):\n",
        "    for j in range(n):\n",
        "      sum += A[i]+A[j]\n",
        "  return sum\n",
        "#n제곱에 수행시간이 비례함"
      ],
      "metadata": {
        "id": "4iTnCtx3USU2"
      },
      "execution_count": 3,
      "outputs": []
    },
    {
      "cell_type": "code",
      "source": [
        "#알고리즘 예4\n",
        "import random\n",
        "def sample4(A,n):\n",
        "  sum = 0\n",
        "  for i in range(n):\n",
        "    for j in range(n):\n",
        "      random.suffle(A)\n",
        "      k = max(A[:n/2]) #max는 n/2 에 비례하는 시간이 든다\n",
        "      sum += k\n",
        "  return sum\n",
        "# n세제곱에 비례하는 수행시간"
      ],
      "metadata": {
        "id": "5qRJNIJ8UxpI"
      },
      "execution_count": 4,
      "outputs": []
    },
    {
      "cell_type": "code",
      "source": [
        "#알고리즘 예5\n",
        "def sample5(A,n):\n",
        "  sum = 0\n",
        "  for i in range(n-1):\n",
        "    for j in range(i+1,n):\n",
        "      sum += A[i]+A[j]\n",
        "  return sum\n",
        "# (n-1)+(n-2)+...+1 = n(n-1)/2 은 n제곱에 비례"
      ],
      "metadata": {
        "id": "6_Xx8Y09VoxD"
      },
      "execution_count": 5,
      "outputs": []
    },
    {
      "cell_type": "code",
      "source": [
        "#팩토리얼\n",
        "def factorial(n):\n",
        "  if n==1: return 1\n",
        "  else:\n",
        "    return n*factorial(n-1)\n",
        "# factorial(n)일때 수행시간은 n에 비례함"
      ],
      "metadata": {
        "id": "0kjix1cqYS88"
      },
      "execution_count": 6,
      "outputs": []
    },
    {
      "cell_type": "markdown",
      "source": [
        "**2. 알고리즘 복잡도**\n",
        "> 알고리즘의 복잡도를 나타낼 때는 점근적 표기를 사용 = 최고차항의 계수만 중요\n",
        "\n",
        "> $O()$ 점근적 상한 (최대) : $O(g(n))≡\\left\\{f(n) | ∃c>0,n_0>1 s.t. ∀n\\ge n_0, f(n) \\le cg(n) \\right\\}$<br>\n",
        "> $\\Omega()$ 점근적 하한 (최소)<br>\n",
        "> $\\Theta()$ 점근적 동일 (정확히 이 정도)<br>"
      ],
      "metadata": {
        "id": "3TsBnu6HYoVL"
      }
    },
    {
      "cell_type": "markdown",
      "source": [
        "* 연습문제\n",
        "1. 다음 주장의 참/거짓을 말하시오<br>\n",
        "> * $n^2 = O(n^2)$<br>\n",
        "> * $n = \\Omega(n)$<br>\n",
        "> * $n^2 = \\Omega(n^3)$<br>\n",
        "> * $2n^2-100n = \\Omega(n^2)$<br>\n",
        "> * $3n^2+log(n) = O(n^2)$<br>\n",
        "> * $n^2 = O(n^{2})$<br>\n",
        "> * $7log(n) = O(n^2)$<br>\n",
        "> * $5n^2+7n-3 = \\Theta(n^2)$<br>\n",
        "> * $5n^2+7n-3 = \\Omega(n^2)$<br>\n",
        "> * $7n-3 = \\Theta(n)$<br>"
      ],
      "metadata": {
        "id": "7fHE9pQylkFu"
      }
    },
    {
      "cell_type": "markdown",
      "source": [
        "2. 입력의 크기가 n일때 다음 알고리즘은 어떤 차수에 비례?"
      ],
      "metadata": {
        "id": "AQ4Pzds0m8Bq"
      }
    },
    {
      "cell_type": "code",
      "source": [
        "def sample(A,n):\n",
        "  sum = 0\n",
        "  for i in range(n):\n",
        "    sum+=A[i] #n에 비례\n",
        "  return sum"
      ],
      "metadata": {
        "id": "Z95GTYYqm6h_"
      },
      "execution_count": 7,
      "outputs": []
    },
    {
      "cell_type": "markdown",
      "source": [
        "3. 입력의 크기가 n일 때 다음 알고리즘의 수행시간을 $O-, \\Omega-, \\Theta-$표기법으로 나타내시오\n"
      ],
      "metadata": {
        "id": "idlBHbx7nSqY"
      }
    },
    {
      "cell_type": "code",
      "source": [
        "def sample(A,n):\n",
        "  sum = 0\n",
        "  for i in range(n):\n",
        "    for j in range(n):\n",
        "      sum = sum + A[i] * A[j]  #n^2에 비례\n",
        "  return sum"
      ],
      "metadata": {
        "id": "11TzKEhhnNW2"
      },
      "execution_count": 8,
      "outputs": []
    },
    {
      "cell_type": "markdown",
      "source": [
        "4. 입력의 크기가 n일 때 다음 알고리즘의 수행시간을 $\\Theta-$표기법으로 나타내시오"
      ],
      "metadata": {
        "id": "-EadC0w9pcWx"
      }
    },
    {
      "cell_type": "code",
      "source": [
        "def matrixMult(A,B,M,n):\n",
        "  for i in range(1,n+1):\n",
        "    for j in range(1,n+1):\n",
        "      M[i,j]=0\n",
        "      for k in range(1,n+1):\n",
        "        M[i,j] = M[i,j]+A[i,j]*B[i,j] #n^3에 비례"
      ],
      "metadata": {
        "id": "NIuraDlanqr1"
      },
      "execution_count": 9,
      "outputs": []
    },
    {
      "cell_type": "markdown",
      "source": [
        "5. 입력의 크기가 n일 때, 다음 알고리즘의 점근적 수행시간을 $O-, Ω-$표기법으로 각각 나타내시오"
      ],
      "metadata": {
        "id": "4qlogt_sqDJA"
      }
    },
    {
      "cell_type": "code",
      "source": [
        "def sample(A,n):\n",
        "  for i in range(1,n+1):\n",
        "    if random(1,100) <= 50: #Omega(n)\n",
        "      sum = 0\n",
        "      for i in range(1,n+1): #n^2에 비례 --> O(n^2)\n",
        "        sum += A[i]"
      ],
      "metadata": {
        "id": "0p55GrhIp_rV"
      },
      "execution_count": 10,
      "outputs": []
    },
    {
      "cell_type": "markdown",
      "source": [
        "6. 입력의 크기가 n일 때, 다음 알고리즘의 점근적 수행시간을  $O−,Ω−$ 표기법으로 각각 나타내시오"
      ],
      "metadata": {
        "id": "HV7ys4bLrlMD"
      }
    },
    {
      "cell_type": "code",
      "source": [
        "def sample(A,n):\n",
        "  if n==1: return 1\n",
        "  elif random(1,100) <= 50: # Omega(n) = radom>50 이라 호출만 하고 끝나는 경우\n",
        "    sum=0\n",
        "    for i in range(1,n+1): #n/2\n",
        "      sum += A[i]\n",
        "  sample(A,n-1) # n^2에 비례 --> n^2+n/2 --> O(n^2)"
      ],
      "metadata": {
        "id": "DrfgtcQGqTnm"
      },
      "execution_count": 11,
      "outputs": []
    },
    {
      "cell_type": "markdown",
      "source": [
        "7. 입력이 n일 때 다음 알고리즘의 점근적 수행시간"
      ],
      "metadata": {
        "id": "Vzk27QT7sV8h"
      }
    },
    {
      "cell_type": "code",
      "source": [
        "def sample(A,n):\n",
        "  if n==1: return 1\n",
        "  sum = 0\n",
        "  for i in range(1,n+1): #n\n",
        "    sum+=A[i]\n",
        "  tmp = sum + sample(A,n-1) #n^2에 비례\n",
        "  return tmp"
      ],
      "metadata": {
        "id": "A_J1suj2sMXx"
      },
      "execution_count": 12,
      "outputs": []
    },
    {
      "cell_type": "markdown",
      "source": [
        "ch3 fin."
      ],
      "metadata": {
        "id": "3cOb3l34uAbD"
      }
    }
  ]
}